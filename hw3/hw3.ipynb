{
 "cells": [
  {
   "cell_type": "markdown",
   "metadata": {
    "id": "KkqdwZcO97qw"
   },
   "source": [
    "# Exercise 3: MAP Classifier\n",
    "\n",
    "In this assignment you will implement Bayesian learning\n",
    "\n",
    "## Do not start the exercise until you fully understand the submission guidelines.\n",
    "\n",
    "* The homework assignments are executed automatically. \n",
    "* Failure to comply with the following instructions will result in a significant penalty. \n",
    "* Appeals regarding your failure to read these instructions will be denied. \n",
    "* Kindly reminder: the homework assignments contribute 50% of the final grade.\n",
    "\n",
    "\n",
    "## Read the following instructions carefully:\n",
    "\n",
    "1. This Jupyter notebook contains all the step-by-step instructions needed for this exercise.\n",
    "1. Write **efficient**, **vectorized** code whenever possible. Some calculations in this exercise may take several minutes when implemented efficiently, and might take much longer otherwise. Unnecessary loops will result in point deductions.\n",
    "1. You are responsible for the correctness of your code and should add as many tests as you see fit to this jupyter notebook. Tests will not be graded nor checked.\n",
    "1. Complete the required functions in `hw3.py` script only. This exercise is graded automatically, and only the `hw3.py` script is tested.\n",
    "1. You are allowed to use functions and methods from the [Python Standard Library](https://docs.python.org/3/library/), numpy and pandas only. **Do not import anything else.**\n",
    "1. Your code must run without errors. Use at least `numpy` 1.15.4. Any code that cannot run will not be graded.\n",
    "1. Write your own code. Cheating will not be tolerated.\n",
    "1. Submission includes this notebook with the exercise number and your ID as the filename and the `hw3.py` script. For example: `hw3_123456789_987654321.ipynb` and `hw3.py` if you submitted in pairs and `hw3_123456789.ipynb` and `hw3.py` if you submitted the exercise alone."
   ]
  },
  {
   "cell_type": "code",
   "execution_count": 1,
   "metadata": {
    "executionInfo": {
     "elapsed": 596,
     "status": "ok",
     "timestamp": 1649263726391,
     "user": {
      "displayName": "Yarden Rachamim",
      "userId": "05474227465087296318"
     },
     "user_tz": -180
    },
    "id": "S7n52AXs97q6"
   },
   "outputs": [],
   "source": [
    "import numpy as np\n",
    "import pandas as pd\n",
    "import matplotlib.pyplot as plt\n",
    "\n",
    "# make the notebook automatically reload external python modules\n",
    "%load_ext autoreload\n",
    "%autoreload 2"
   ]
  },
  {
   "cell_type": "markdown",
   "metadata": {
    "id": "wIlV22zUVJ7p"
   },
   "source": [
    "# Conditional independence  \n",
    "Define 3 random variables (RV) $X, Y, C$ s.t.:  \n",
    "1. $X, Y$ and $C$ are all binary\n",
    "2. The following conditions hold:  \n",
    "    * P(X=0) = 0.3\n",
    "    * P(Y=0) = 0.3\n",
    "    * P(C=0) = 0.5\n",
    "3. $X$ and $Y$ are not independent\n",
    "4. $X$ and $Y$ are conditionally independent given $C$ $(X \\perp\\!\\!\\!\\perp Y |C)$\n",
    "\n",
    "In order to define those RV you need to fill the distributions (represent as python dictionaries) below\n",
    "and then write a function that prove that conditions 3 (`is_X_Y_dependent`) and 4 (`is_X_Y_given_C_independent`) holds.\n",
    "\n",
    "Recall that:   \n",
    "1. $P(X|Y) = \\frac{P(X, Y)}{P(Y)}$  \n",
    "2. $P(X, Y|C) = \\frac{P(X, Y, C)}{P(C)}$\n",
    "3. $(X \\perp\\!\\!\\!\\perp Y |C)$   iff  \n",
    "$\\forall x, y,c$: $p(X=x,Y=y|C=c)=p(X=x|C=c)p(Y=y|C=c)$  \n",
    "\n",
    "**Make sure that all the probabilities are valid!**\n",
    "\n",
    "You may assume that X, Y and C have the same support (e.g. they are defined on the same space).\n",
    "\n",
    "Note: since python suffer from numerical instability you may want to use `np.isclose` instead of the `==` operator."
   ]
  },
  {
   "cell_type": "code",
   "execution_count": 2,
   "metadata": {},
   "outputs": [
    {
     "name": "stdout",
     "output_type": "stream",
     "text": [
      "True\n",
      "True\n"
     ]
    }
   ],
   "source": [
    "from hw3 import conditional_independence\n",
    "\n",
    "print(conditional_independence().is_X_Y_dependent())\n",
    "print(conditional_independence().is_X_Y_given_C_independent())"
   ]
  },
  {
   "cell_type": "markdown",
   "metadata": {
    "id": "VZJBM6CCAyRB"
   },
   "source": [
    "# Maximum Likelihood estimation  \n",
    "\n",
    "In probability theory and statistics, the Poisson distribution is a discrete probability distribution that expresses the probability of a given number of events occurring in a fixed interval of time or space if these events occur with a known constant mean rate and independently of the time since the last event.  \n",
    "The parameter of this distribution is the rate of events in that given time interval, annotated $\\lambda$  \n",
    "if $X$~$Pois(\\lambda)$  \n",
    "then $p(X=k|\\lambda) = \\frac{\\lambda^ke^{-\\lambda}}{k!}$  \n",
    "Where $X$ is a RV $\\lambda$ is the rate and $p$ is the pmf\n",
    "\n",
    "Implement the function `poisson_log_pmf` in `hw3.py`."
   ]
  },
  {
   "cell_type": "code",
   "execution_count": 27,
   "metadata": {
    "id": "ae0FUmlqFPA1"
   },
   "outputs": [],
   "source": [
    "from hw3 import poisson_log_pmf"
   ]
  },
  {
   "cell_type": "markdown",
   "metadata": {
    "id": "weRAiHJxIbuh"
   },
   "source": [
    "In the file poisson_1000_samples.csv there are 1000 points drawn from some poisson distribution with a fixed parameter $\\lambda$  \n",
    "\n",
    "In the following section you are going to find a rate that maximizes the likelihood function. You will do this in 2 different ways:\n",
    "1. Iterative (`possion_iterative_mle`): given a list of possible rates (`rates`), calculate the log likelihood value for each rate and return the rate that has the maximum value\n",
    "2. Analytic (`possion_analytic_mle`): read the following blog: https://www.statology.org/mle-poisson-distribution/. This blog demonstrate how to derive the MLE of a poisson distribution. Understand the process and implement the function.\n"
   ]
  },
  {
   "cell_type": "code",
   "execution_count": 28,
   "metadata": {
    "colab": {
     "base_uri": "https://localhost:8080/",
     "height": 342
    },
    "executionInfo": {
     "elapsed": 311,
     "status": "error",
     "timestamp": 1649264049923,
     "user": {
      "displayName": "Yarden Rachamim",
      "userId": "05474227465087296318"
     },
     "user_tz": -180
    },
    "id": "14_MylZP-15d",
    "outputId": "014abf33-e03c-4ef7-b787-eb1a00d0815b"
   },
   "outputs": [],
   "source": [
    "poisson_samples = pd.read_csv('data/poisson_1000_samples.csv').values.flatten()\n",
    "rates = np.linspace(0.01, 20, num=1000)"
   ]
  },
  {
   "cell_type": "code",
   "execution_count": 29,
   "metadata": {
    "executionInfo": {
     "elapsed": 295,
     "status": "ok",
     "timestamp": 1649264030874,
     "user": {
      "displayName": "Yarden Rachamim",
      "userId": "05474227465087296318"
     },
     "user_tz": -180
    },
    "id": "Z8C_qIhKA9ZK"
   },
   "outputs": [],
   "source": [
    "from hw3 import (get_poisson_log_likelihoods, \n",
    "                    possion_iterative_mle,\n",
    "                    possion_analytic_mle)"
   ]
  },
  {
   "cell_type": "code",
   "execution_count": 30,
   "metadata": {},
   "outputs": [
    {
     "data": {
      "text/plain": [
       "array([-34543.53870513, -27996.24801666, -24963.16544657, -22972.24652761,\n",
       "       -21490.30660358, -20311.04814063, -19332.70112782, -18497.50983365,\n",
       "       -17769.52145361, -17124.82855688, -16546.72483324, -16023.07511755,\n",
       "       -15544.78623408, -15104.86820433, -14697.83180945, -14319.28751463,\n",
       "       -13965.67002666, -13634.04403185, -13321.96399431, -13027.37090951,\n",
       "       -12748.51490692, -12483.89630475, -12232.22007733, -11992.36023141,\n",
       "       -11763.33161153, -11544.26734931, -11334.40065309, -11133.04997241,\n",
       "       -10939.6068136 , -10753.52565752, -10574.3155587 , -10401.53310027,\n",
       "       -10234.77645022, -10073.68031873,  -9917.91165743,  -9767.16597325,\n",
       "        -9621.16415457,  -9479.64972633,  -9342.38646651,  -9209.15632826,\n",
       "        -9079.75762193,  -8954.00341873,  -8831.72014465,  -8712.74633785,\n",
       "        -8596.93154723,  -8484.13535358,  -8374.22649696,  -8267.0820971 ,\n",
       "        -8162.58695495,  -8060.63292547,  -7961.11835328,  -7863.94756353,\n",
       "        -7769.03040182,  -7676.28181745,  -7585.62148535,  -7496.97346234,\n",
       "        -7410.26587409,  -7325.43062953,  -7242.40315991,  -7161.12218   ,\n",
       "        -7081.52946912,  -7003.56967018,  -6927.1901049 ,  -6852.34060372,\n",
       "        -6778.97334899,  -6707.04273021,  -6636.50521024,  -6567.31920156,\n",
       "        -6499.44495149,  -6432.84443589,  -6367.48126032,  -6303.32056826,\n",
       "        -6240.32895565,  -6178.47439127,  -6117.72614256,  -6058.05470635,\n",
       "        -5999.43174412,  -5941.83002155,  -5885.22335181,  -5829.5865426 ,\n",
       "        -5774.89534636,  -5721.12641367,  -5668.25724936,  -5616.26617141,\n",
       "        -5565.1322722 ,  -5514.83538203,  -5465.35603487,  -5416.67543595,\n",
       "        -5368.77543123,  -5321.63847869,  -5275.24762102,  -5229.58645998,\n",
       "        -5184.6391321 ,  -5140.39028562,  -5096.82505879,  -5053.92905916,\n",
       "        -5011.68834409,  -4970.08940215,  -4929.11913555,  -4888.76484343,\n",
       "        -4849.01420596,  -4809.85526924,  -4771.276431  ,  -4733.26642689,\n",
       "        -4695.81431751,  -4658.90947603,  -4622.54157638,  -4586.70058201,\n",
       "        -4551.3767352 ,  -4516.56054677,  -4482.24278636,  -4448.41447308,\n",
       "        -4415.0668666 ,  -4382.19145865,  -4349.77996487,  -4317.82431701,\n",
       "        -4286.31665551,  -4255.2493223 ,  -4224.61485406,  -4194.4059756 ,\n",
       "        -4164.61559361,  -4135.23679066,  -4106.26281943,  -4077.68709716,\n",
       "        -4049.50320037,  -4021.70485974,  -3994.28595521,  -3967.24051132,\n",
       "        -3940.56269262,  -3914.24679943,  -3888.28726355,  -3862.67864432,\n",
       "        -3837.41562474,  -3812.49300774,  -3787.90571261,  -3763.64877152,\n",
       "        -3739.71732627,  -3716.10662501,  -3692.81201921,  -3669.82896066,\n",
       "        -3647.15299863,  -3624.77977708,  -3602.70503199,  -3580.92458881,\n",
       "        -3559.43435995,  -3538.23034241,  -3517.30861543,  -3496.66533826,\n",
       "        -3476.29674803,  -3456.19915762,  -3436.36895364,  -3416.80259451,\n",
       "        -3397.49660854,  -3378.44759212,  -3359.65220794,  -3341.10718329,\n",
       "        -3322.80930839,  -3304.75543481,  -3286.94247387,  -3269.3673952 ,\n",
       "        -3252.02722524,  -3234.91904583,  -3218.03999286,  -3201.38725493,\n",
       "        -3184.95807208,  -3168.7497345 ,  -3152.7595814 ,  -3136.98499975,\n",
       "        -3121.4234232 ,  -3106.07233095,  -3090.9292467 ,  -3075.99173757,\n",
       "        -3061.25741314,  -3046.72392442,  -3032.38896294,  -3018.2502598 ,\n",
       "        -3004.30558475,  -2990.55274538,  -2976.9895862 ,  -2963.61398787,\n",
       "        -2950.42386635,  -2937.41717216,  -2924.59188961,  -2911.94603602,\n",
       "        -2899.47766106,  -2887.18484604,  -2875.0657032 ,  -2863.11837505,\n",
       "        -2851.34103378,  -2839.73188056,  -2828.28914498,  -2817.01108443,\n",
       "        -2805.89598354,  -2794.94215357,  -2784.14793195,  -2773.51168164,\n",
       "        -2763.03179068,  -2752.70667166,  -2742.5347612 ,  -2732.51451952,\n",
       "        -2722.64442991,  -2712.92299831,  -2703.34875286,  -2693.92024342,\n",
       "        -2684.6360412 ,  -2675.49473833,  -2666.49494741,  -2657.63530117,\n",
       "        -2648.91445206,  -2640.33107186,  -2631.88385135,  -2623.57149989,\n",
       "        -2615.39274513,  -2607.34633263,  -2599.43102554,  -2591.64560427,\n",
       "        -2583.98886616,  -2576.45962518,  -2569.05671163,  -2561.77897183,\n",
       "        -2554.62526783,  -2547.59447711,  -2540.68549236,  -2533.89722112,\n",
       "        -2527.22858561,  -2520.67852237,  -2514.2459821 ,  -2507.92992933,\n",
       "        -2501.72934226,  -2495.64321243,  -2489.67054455,  -2483.81035628,\n",
       "        -2478.06167795,  -2472.42355238,  -2466.89503469,  -2461.47519203,\n",
       "        -2456.16310341,  -2450.95785953,  -2445.85856251,  -2440.86432578,\n",
       "        -2435.97427381,  -2431.18754201,  -2426.50327648,  -2421.92063388,\n",
       "        -2417.43878122,  -2413.05689573,  -2408.77416466,  -2404.58978514,\n",
       "        -2400.502964  ,  -2396.51291765,  -2392.61887187,  -2388.82006172,\n",
       "        -2385.11573136,  -2381.5051339 ,  -2377.9875313 ,  -2374.56219417,\n",
       "        -2371.22840169,  -2367.98544144,  -2364.8326093 ,  -2361.76920929,\n",
       "        -2358.79455347,  -2355.90796181,  -2353.10876204,  -2350.39628961,\n",
       "        -2347.76988747,  -2345.22890604,  -2342.77270305,  -2340.40064346,\n",
       "        -2338.11209932,  -2335.90644971,  -2333.78308058,  -2331.7413847 ,\n",
       "        -2329.78076152,  -2327.90061711,  -2326.10036402,  -2324.37942123,\n",
       "        -2322.73721402,  -2321.17317389,  -2319.68673851,  -2318.27735154,\n",
       "        -2316.94446266,  -2315.68752738,  -2314.50600703,  -2313.39936863,\n",
       "        -2312.36708484,  -2311.40863388,  -2310.52349944,  -2309.71117058,\n",
       "        -2308.97114172,  -2308.30291251,  -2307.70598778,  -2307.17987745,\n",
       "        -2306.72409651,  -2306.33816487,  -2306.02160738,  -2305.77395369,\n",
       "        -2305.59473825,  -2305.48350019,  -2305.43978327,  -2305.46313586,\n",
       "        -2305.55311081,  -2305.70926547,  -2305.93116154,  -2306.21836509,\n",
       "        -2306.57044646,  -2306.98698023,  -2307.46754513,  -2308.01172402,\n",
       "        -2308.61910383,  -2309.28927548,  -2310.02183386,  -2310.81637778,\n",
       "        -2311.67250988,  -2312.58983664,  -2313.56796827,  -2314.60651871,\n",
       "        -2315.70510556,  -2316.86335005,  -2318.08087696,  -2319.35731462,\n",
       "        -2320.69229484,  -2322.08545285,  -2323.53642732,  -2325.04486024,\n",
       "        -2326.61039692,  -2328.23268597,  -2329.91137919,  -2331.64613162,\n",
       "        -2333.43660143,  -2335.28244991,  -2337.18334143,  -2339.1389434 ,\n",
       "        -2341.14892624,  -2343.21296333,  -2345.33073101,  -2347.50190849,\n",
       "        -2349.72617784,  -2352.00322399,  -2354.33273465,  -2356.71440029,\n",
       "        -2359.14791411,  -2361.63297202,  -2364.16927259,  -2366.75651703,\n",
       "        -2369.39440915,  -2372.08265534,  -2374.82096454,  -2377.6090482 ,\n",
       "        -2380.44662026,  -2383.33339711,  -2386.26909759,  -2389.25344293,\n",
       "        -2392.28615673,  -2395.36696495,  -2398.49559587,  -2401.67178008,\n",
       "        -2404.8952504 ,  -2408.16574194,  -2411.482992  ,  -2414.8467401 ,\n",
       "        -2418.2567279 ,  -2421.71269923,  -2425.21440005,  -2428.76157838,\n",
       "        -2432.35398437,  -2435.99137018,  -2439.67349002,  -2443.40010011,\n",
       "        -2447.17095865,  -2450.98582582,  -2454.84446373,  -2458.74663642,\n",
       "        -2462.69210982,  -2466.68065177,  -2470.71203195,  -2474.78602189,\n",
       "        -2478.90239494,  -2483.06092625,  -2487.26139277,  -2491.5035732 ,\n",
       "        -2495.78724799,  -2500.11219933,  -2504.4782111 ,  -2508.8850689 ,\n",
       "        -2513.33255998,  -2517.82047326,  -2522.34859929,  -2526.91673026,\n",
       "        -2531.52465996,  -2536.17218377,  -2540.85909863,  -2545.58520307,\n",
       "        -2550.35029712,  -2555.15418238,  -2559.99666193,  -2564.87754035,\n",
       "        -2569.79662372,  -2574.75371956,  -2579.74863686,  -2584.78118603,\n",
       "        -2589.85117892,  -2594.95842877,  -2600.10275022,  -2605.2839593 ,\n",
       "        -2610.50187339,  -2615.75631124,  -2621.04709291,  -2626.37403983,\n",
       "        -2631.7369747 ,  -2637.13572156,  -2642.57010569,  -2648.0399537 ,\n",
       "        -2653.54509341,  -2659.08535393,  -2664.66056559,  -2670.27055996,\n",
       "        -2675.9151698 ,  -2681.59422909,  -2687.30757301,  -2693.0550379 ,\n",
       "        -2698.83646129,  -2704.65168184,  -2710.50053939,  -2716.38287489,\n",
       "        -2722.29853043,  -2728.24734921,  -2734.22917553,  -2740.24385478,\n",
       "        -2746.29123346,  -2752.37115911,  -2758.48348036,  -2764.62804686,\n",
       "        -2770.80470935,  -2777.01331958,  -2783.25373031,  -2789.52579533,\n",
       "        -2795.82936945,  -2802.16430846,  -2808.53046913,  -2814.92770924,\n",
       "        -2821.3558875 ,  -2827.81486361,  -2834.30449821,  -2840.82465289,\n",
       "        -2847.37519017,  -2853.95597349,  -2860.56686724,  -2867.20773667,\n",
       "        -2873.87844798,  -2880.57886824,  -2887.3088654 ,  -2894.06830831,\n",
       "        -2900.85706667,  -2907.67501106,  -2914.5220129 ,  -2921.39794447,\n",
       "        -2928.30267888,  -2935.23609009,  -2942.19805285,  -2949.18844278,\n",
       "        -2956.20713626,  -2963.25401051,  -2970.32894353,  -2977.43181412,\n",
       "        -2984.56250186,  -2991.7208871 ,  -2998.90685097,  -3006.12027536,\n",
       "        -3013.36104292,  -3020.62903704,  -3027.92414187,  -3035.24624228,\n",
       "        -3042.5952239 ,  -3049.97097305,  -3057.3733768 ,  -3064.8023229 ,\n",
       "        -3072.25769985,  -3079.73939681,  -3087.24730367,  -3094.78131099,\n",
       "        -3102.34131001,  -3109.92719266,  -3117.53885154,  -3125.17617991,\n",
       "        -3132.83907171,  -3140.52742152,  -3148.24112456,  -3155.98007673,\n",
       "        -3163.74417454,  -3171.53331514,  -3179.34739633,  -3187.1863165 ,\n",
       "        -3195.04997469,  -3202.93827054,  -3210.8511043 ,  -3218.78837683,\n",
       "        -3226.74998959,  -3234.73584462,  -3242.74584457,  -3250.77989267,\n",
       "        -3258.83789272,  -3266.9197491 ,  -3275.02536677,  -3283.15465125,\n",
       "        -3291.30750863,  -3299.48384555,  -3307.6835692 ,  -3315.90658732,\n",
       "        -3324.15280821,  -3332.4221407 ,  -3340.71449415,  -3349.02977846,\n",
       "        -3357.36790406,  -3365.72878189,  -3374.11232343,  -3382.51844067,\n",
       "        -3390.94704609,  -3399.39805271,  -3407.87137403,  -3416.36692406,\n",
       "        -3424.88461731,  -3433.42436877,  -3441.98609393,  -3450.56970876,\n",
       "        -3459.17512971,  -3467.80227371,  -3476.45105817,  -3485.12140095,\n",
       "        -3493.8132204 ,  -3502.52643531,  -3511.26096496,  -3520.01672905,\n",
       "        -3528.79364777,  -3537.59164172,  -3546.41063198,  -3555.25054006,\n",
       "        -3564.1112879 ,  -3572.99279789,  -3581.89499285,  -3590.81779602,\n",
       "        -3599.76113107,  -3608.72492211,  -3617.70909365,  -3626.71357062,\n",
       "        -3635.73827836,  -3644.78314265,  -3653.84808964,  -3662.93304591,\n",
       "        -3672.03793843,  -3681.16269457,  -3690.3072421 ,  -3699.47150918,\n",
       "        -3708.65542437,  -3717.8589166 ,  -3727.0819152 ,  -3736.32434987,\n",
       "        -3745.58615071,  -3754.86724818,  -3764.1675731 ,  -3773.48705669,\n",
       "        -3782.82563053,  -3792.18322655,  -3801.55977707,  -3810.95521474,\n",
       "        -3820.36947259,  -3829.80248401,  -3839.25418272,  -3848.72450281,\n",
       "        -3858.21337871,  -3867.72074519,  -3877.24653739,  -3886.79069075,\n",
       "        -3896.35314108,  -3905.93382452,  -3915.53267754,  -3925.14963693,\n",
       "        -3934.78463983,  -3944.43762369,  -3954.1085263 ,  -3963.79728576,\n",
       "        -3973.5038405 ,  -3983.22812926,  -3992.97009109,  -4002.72966537,\n",
       "        -4012.50679179,  -4022.30141033,  -4032.11346129,  -4041.94288529,\n",
       "        -4051.78962322,  -4061.65361629,  -4071.53480603,  -4081.43313422,\n",
       "        -4091.34854297,  -4101.28097467,  -4111.23037201,  -4121.19667795,\n",
       "        -4131.17983576,  -4141.17978899,  -4151.19648145,  -4161.22985727,\n",
       "        -4171.27986082,  -4181.34643678,  -4191.42953008,  -4201.52908595,\n",
       "        -4211.64504986,  -4221.77736759,  -4231.92598515,  -4242.09084885,\n",
       "        -4252.27190523,  -4262.46910112,  -4272.68238361,  -4282.91170004,\n",
       "        -4293.156998  ,  -4303.41822536,  -4313.69533023,  -4323.98826098,\n",
       "        -4334.29696622,  -4344.62139482,  -4354.96149589,  -4365.3172188 ,\n",
       "        -4375.68851315,  -4386.0753288 ,  -4396.47761584,  -4406.89532459,\n",
       "        -4417.32840564,  -4427.77680978,  -4438.24048807,  -4448.71939178,\n",
       "        -4459.21347242,  -4469.72268174,  -4480.2469717 ,  -4490.78629452,\n",
       "        -4501.34060261,  -4511.90984863,  -4522.49398546,  -4533.0929662 ,\n",
       "        -4543.70674416,  -4554.3352729 ,  -4564.97850616,  -4575.63639792,\n",
       "        -4586.30890238,  -4596.99597395,  -4607.69756723,  -4618.41363707,\n",
       "        -4629.14413851,  -4639.88902679,  -4650.64825738,  -4661.42178594,\n",
       "        -4672.20956833,  -4683.01156065,  -4693.82771915,  -4704.65800033,\n",
       "        -4715.50236085,  -4726.3607576 ,  -4737.23314766,  -4748.11948829,\n",
       "        -4759.01973697,  -4769.93385135,  -4780.86178929,  -4791.80350883,\n",
       "        -4802.75896823,  -4813.72812589,  -4824.71094044,  -4835.70737068,\n",
       "        -4846.7173756 ,  -4857.74091437,  -4868.77794635,  -4879.82843108,\n",
       "        -4890.89232829,  -4901.96959787,  -4913.06019991,  -4924.16409467,\n",
       "        -4935.28124258,  -4946.41160427,  -4957.55514052,  -4968.7118123 ,\n",
       "        -4979.88158074,  -4991.06440715,  -5002.26025302,  -5013.46908   ,\n",
       "        -5024.6908499 ,  -5035.92552471,  -5047.17306659,  -5058.43343787,\n",
       "        -5069.70660102,  -5080.9925187 ,  -5092.29115373,  -5103.60246908,\n",
       "        -5114.9264279 ,  -5126.26299347,  -5137.61212926,  -5148.97379888,\n",
       "        -5160.34796612,  -5171.73459489,  -5183.1336493 ,  -5194.54509358,\n",
       "        -5205.96889213,  -5217.4050095 ,  -5228.8534104 ,  -5240.31405967,\n",
       "        -5251.78692232,  -5263.2719635 ,  -5274.76914853,  -5286.27844284,\n",
       "        -5297.79981205,  -5309.33322188,  -5320.87863824,  -5332.43602716,\n",
       "        -5344.00535482,  -5355.58658754,  -5367.17969179,  -5378.78463416,\n",
       "        -5390.40138142,  -5402.02990044,  -5413.67015825,  -5425.32212201,\n",
       "        -5436.98575904,  -5448.66103675,  -5460.34792274,  -5472.04638471,\n",
       "        -5483.7563905 ,  -5495.4779081 ,  -5507.21090561,  -5518.95535127,\n",
       "        -5530.71121347,  -5542.47846071,  -5554.25706163,  -5566.04698498,\n",
       "        -5577.84819967,  -5589.66067472,  -5601.48437927,  -5613.31928261,\n",
       "        -5625.16535414,  -5637.02256337,  -5648.89087998,  -5660.77027372,\n",
       "        -5672.66071451,  -5684.56217235,  -5696.4746174 ,  -5708.39801992,\n",
       "        -5720.3323503 ,  -5732.27757903,  -5744.23367676,  -5756.2006142 ,\n",
       "        -5768.17836224,  -5780.16689184,  -5792.16617411,  -5804.17618024,\n",
       "        -5816.19688158,  -5828.22824955,  -5840.27025573,  -5852.32287176,\n",
       "        -5864.38606945,  -5876.45982068,  -5888.54409745,  -5900.63887189,\n",
       "        -5912.74411623,  -5924.8598028 ,  -5936.98590405,  -5949.12239254,\n",
       "        -5961.26924094,  -5973.42642201,  -5985.59390863,  -5997.7716738 ,\n",
       "        -6009.9596906 ,  -6022.15793224,  -6034.36637202,  -6046.58498333,\n",
       "        -6058.81373971,  -6071.05261476,  -6083.3015822 ,  -6095.56061584,\n",
       "        -6107.82968962,  -6120.10877755,  -6132.39785376,  -6144.69689247,\n",
       "        -6157.005868  ,  -6169.32475478,  -6181.65352733,  -6193.99216027,\n",
       "        -6206.34062831,  -6218.69890627,  -6231.06696906,  -6243.44479169,\n",
       "        -6255.83234926,  -6268.22961696,  -6280.63657009,  -6293.05318403,\n",
       "        -6305.47943427,  -6317.91529638,  -6330.36074602,  -6342.81575896,\n",
       "        -6355.28031104,  -6367.7543782 ,  -6380.23793648,  -6392.73096201,\n",
       "        -6405.23343098,  -6417.74531971,  -6430.26660459,  -6442.7972621 ,\n",
       "        -6455.3372688 ,  -6467.88660135,  -6480.4452365 ,  -6493.01315108,\n",
       "        -6505.590322  ,  -6518.17672626,  -6530.77234096,  -6543.37714326,\n",
       "        -6555.99111044,  -6568.61421982,  -6581.24644884,  -6593.887775  ,\n",
       "        -6606.5381759 ,  -6619.19762922,  -6631.8661127 ,  -6644.54360421,\n",
       "        -6657.23008164,  -6669.92552302,  -6682.62990641,  -6695.34320999,\n",
       "        -6708.065412  ,  -6720.79649075,  -6733.53642466,  -6746.2851922 ,\n",
       "        -6759.04277194,  -6771.8091425 ,  -6784.58428261,  -6797.36817105,\n",
       "        -6810.1607867 ,  -6822.9621085 ,  -6835.77211547,  -6848.5907867 ,\n",
       "        -6861.41810138,  -6874.25403875,  -6887.09857813,  -6899.95169891,\n",
       "        -6912.81338057,  -6925.68360265,  -6938.56234477,  -6951.44958661,\n",
       "        -6964.34530795,  -6977.24948861,  -6990.16210851,  -7003.08314761,\n",
       "        -7016.01258598,  -7028.95040372,  -7041.89658103,  -7054.85109817,\n",
       "        -7067.81393547,  -7080.78507334,  -7093.76449223,  -7106.7521727 ,\n",
       "        -7119.74809534,  -7132.75224082,  -7145.76458991,  -7158.78512339,\n",
       "        -7171.81382216,  -7184.85066715,  -7197.89563937,  -7210.94871991,\n",
       "        -7224.00988991,  -7237.07913057,  -7250.15642317,  -7263.24174906,\n",
       "        -7276.33508963,  -7289.43642635,  -7302.54574076,  -7315.66301445,\n",
       "        -7328.78822909,  -7341.9213664 ,  -7355.06240816,  -7368.21133623,\n",
       "        -7381.36813251,  -7394.53277898,  -7407.70525769,  -7420.88555072,\n",
       "        -7434.07364023,  -7447.26950845,  -7460.47313765,  -7473.68451018,\n",
       "        -7486.90360844,  -7500.13041489,  -7513.36491204,  -7526.60708249,\n",
       "        -7539.85690888,  -7553.11437389,  -7566.37946028,  -7579.65215088,\n",
       "        -7592.93242855,  -7606.22027623,  -7619.51567691,  -7632.81861363,\n",
       "        -7646.12906949,  -7659.44702765,  -7672.77247133,  -7686.10538381,\n",
       "        -7699.44574841,  -7712.79354851,  -7726.14876756,  -7739.51138906,\n",
       "        -7752.88139654,  -7766.25877361,  -7779.64350395,  -7793.03557125,\n",
       "        -7806.43495929,  -7819.84165188,  -7833.25563291,  -7846.6768863 ,\n",
       "        -7860.10539604,  -7873.54114615,  -7886.98412073,  -7900.43430391,\n",
       "        -7913.89167988,  -7927.3562329 ,  -7940.82794725,  -7954.30680729,\n",
       "        -7967.7927974 ,  -7981.28590204,  -7994.78610571,  -8008.29339296,\n",
       "        -8021.80774839,  -8035.32915666,  -8048.85760245,  -8062.39307053,\n",
       "        -8075.93554569,  -8089.48501278,  -8103.04145671,  -8116.60486241,\n",
       "        -8130.17521489,  -8143.75249919,  -8157.3367004 ,  -8170.92780366,\n",
       "        -8184.52579417,  -8198.13065715,  -8211.7423779 ,  -8225.36094174,\n",
       "        -8238.98633405,  -8252.61854026,  -8266.25754584,  -8279.9033363 ,\n",
       "        -8293.55589721,  -8307.21521418,  -8320.88127286,  -8334.55405897,\n",
       "        -8348.23355823,  -8361.91975645,  -8375.61263947,  -8389.31219316,\n",
       "        -8403.01840346,  -8416.73125632,  -8430.45073778,  -8444.17683389,\n",
       "        -8457.90953075,  -8471.6488145 ,  -8485.39467136,  -8499.14708753,\n",
       "        -8512.90604931,  -8526.67154301,  -8540.443555  ,  -8554.22207169,\n",
       "        -8568.00707951,  -8581.79856497,  -8595.59651459,  -8609.40091496,\n",
       "        -8623.21175268,  -8637.02901442,  -8650.85268687,  -8664.68275678,\n",
       "        -8678.51921092,  -8692.36203613,  -8706.21121927,  -8720.06674723,\n",
       "        -8733.92860697,  -8747.79678546,  -8761.67126974,  -8775.55204688,\n",
       "        -8789.43910396,  -8803.33242815,  -8817.23200661,  -8831.13782658,\n",
       "        -8845.04987533,  -8858.96814014,  -8872.89260836,  -8886.82326736,\n",
       "        -8900.76010457,  -8914.70310745,  -8928.65226347,  -8942.60756018,\n",
       "        -8956.56898515,  -8970.53652598,  -8984.51017031,  -8998.48990584,\n",
       "        -9012.47572027,  -9026.46760137,  -9040.46553692,  -9054.46951477,\n",
       "        -9068.47952277,  -9082.49554882,  -9096.51758088,  -9110.54560691])"
      ]
     },
     "execution_count": 30,
     "metadata": {},
     "output_type": "execute_result"
    }
   ],
   "source": [
    "y = get_poisson_log_likelihoods(poisson_samples, rates)\n",
    "y"
   ]
  },
  {
   "cell_type": "code",
   "execution_count": 31,
   "metadata": {
    "colab": {
     "base_uri": "https://localhost:8080/",
     "height": 245
    },
    "executionInfo": {
     "elapsed": 779,
     "status": "error",
     "timestamp": 1649264034100,
     "user": {
      "displayName": "Yarden Rachamim",
      "userId": "05474227465087296318"
     },
     "user_tz": -180
    },
    "id": "i55OIUH1MIUh",
    "outputId": "b593730f-e29a-4ba0-fd56-0f2a8bc4f29d"
   },
   "outputs": [
    {
     "data": {
      "image/png": "[encoded data removed]",
      "text/plain": [
       "<Figure size 640x480 with 1 Axes>"
      ]
     },
     "metadata": {},
     "output_type": "display_data"
    }
   ],
   "source": [
    "x = rates\n",
    "y = get_poisson_log_likelihoods(poisson_samples, rates)\n",
    "iterative_rate = possion_iterative_mle(poisson_samples, rates)\n",
    "analytic_rate = possion_analytic_mle(poisson_samples)\n",
    "\n",
    "plt.plot(x, y)\n",
    "plt.axvline(x=iterative_rate, linestyle=':', c='r', label=f\"iterative: {iterative_rate:.2f}\")\n",
    "plt.axvline(x=analytic_rate, linestyle='--', c='g', label=f\"analytic: {analytic_rate:.2f}\")\n",
    "plt.legend()\n",
    "plt.show()"
   ]
  },
  {
   "cell_type": "markdown",
   "metadata": {
    "id": "kL1Y_nmu97q9"
   },
   "source": [
    "\n",
    "# Normal Naive Bayes Classifier Vs Normal Full Bayes Classifier\n",
    "In the following section we are going to compare 2 models on a given dataset. <br>\n",
    "The 2 classifiers we are going to test are:\n",
    "1. Naive Bayes classifier.<br>\n",
    "1. Full Bayes classifier.<br>\n",
    "Recall that a Naive Bayes classifier makes the following assumption :<br> \n",
    "## $$ p(x_1, x_2, ..., x_n|A_j) = \\Pi p(x_i | A_j) $$\n",
    "But the full Bayes classifier will not make this assumption.<br>"
   ]
  },
  {
   "cell_type": "markdown",
   "metadata": {
    "id": "O4Trl8uU97q-"
   },
   "source": [
    "### The Data Story"
   ]
  },
  {
   "cell_type": "markdown",
   "metadata": {
    "id": "5Z8oRyIG97rA"
   },
   "source": [
    "In a faraway land called **Randomistan** there is a rare animal called the **Randomammal**.<br> \n",
    "We have gathered data about this unique animal to help the **randomian** researchers in observing this beast. <br>\n",
    "For a 1000 days straight we have measured the temperature and the humidity in Randomistan and whether the Randomammal was spotted or not. <br>\n",
    "The well known randomian **Bob** is a bit of a lazy researcher so he likes to keep things simple, and so he assumes that the temperature and the humidity are independent given the class. <br>\n",
    "**Alice** on the other hand is a hard working researcher and does not make any assumptions, she's young and is trying to gain some fame in the randomian community.\n",
    "\n",
    "The dataset contains 2 features (**Temperature**, **Humidity**) alongside a binary label (**Spotted**) for each instance.<br>\n",
    "\n",
    "We are going to test 2 different classifiers :\n",
    "* Naive Bayes Classifier (Bob)\n",
    "* Full Bayes Classifier. (Alice)\n",
    "\n",
    "Both of our researchers assume that our features are normally distributed. But while Bob with his Naive classifier will assume that the features are independent, Alice and her Full Bayes classifier will not make this assumption.<br><br>\n",
    "Let's start off by loading the data (train, test) into a pandas dataframe and then converting them\n",
    "into numpy arrays.<br>\n",
    "The datafiles are :\n",
    "- randomammal_train.csv\n",
    "- randomammal_test.csv"
   ]
  },
  {
   "cell_type": "code",
   "execution_count": null,
   "metadata": {
    "id": "Wml9l2VJ97rB"
   },
   "outputs": [],
   "source": [
    "# Load the train and test set into a pandas dataframe and convert them into a numpy array.\n",
    "# The columns order: ['Temp', 'Humidity', 'Spotted']\n",
    "train_set = pd.read_csv('data/randomammal_train.csv').values\n",
    "test_set = pd.read_csv('data/randomammal_test.csv').values"
   ]
  },
  {
   "cell_type": "markdown",
   "metadata": {
    "id": "R0Smujya97rD"
   },
   "source": [
    "# Data Visualization\n",
    "Note the scatter plot of the training data where __x__=Temperature and **y**=Humidity. <br>\n",
    "Color is used to distinguish points from different classes.<br>\n",
    "Stop for a minute to think about Alice and Bob's approaches and which one you expect to work better."
   ]
  },
  {
   "cell_type": "code",
   "execution_count": null,
   "metadata": {
    "id": "e3GuXpOj97rF"
   },
   "outputs": [],
   "source": [
    "plt.scatter(x=train_set[:, 0], y=train_set[:, 1], c=train_set[:, 2])"
   ]
  },
  {
   "cell_type": "markdown",
   "metadata": {
    "id": "mtalzG-N97rG"
   },
   "source": [
    "## Bob's Naive Model\n",
    "\n",
    "Start with implementing the [normal distribution](https://en.wikipedia.org/wiki/Normal_distribution) probability density function in `hw3.py`: \n",
    "$$ \\frac{1}{\\sqrt{2\\pi \\sigma^2}} \\cdot e ^{-\\frac{(x - \\mu)^2}{2\\sigma^2}} $$\n",
    "Where :\n",
    "* $\\mu$ is the distribution mean.\n",
    "* $\\sigma$ is the distribution standard deviation."
   ]
  },
  {
   "cell_type": "code",
   "execution_count": null,
   "metadata": {},
   "outputs": [],
   "source": [
    "from hw3 import normal_pdf"
   ]
  },
  {
   "cell_type": "markdown",
   "metadata": {
    "id": "zLQsBEja97rH"
   },
   "source": [
    "Implement the **NaiveNormalClassDistribution** in `hw3.py` and build a distribution object for each class.\n",
    "Recall that when using the naive assumption, we assume our features are independent given the class. Meaning:\n",
    "$$ P(x_1, x_2 | Y) = p(x_1 | Y) \\cdot p(x_2 | Y)$$\n",
    "\n",
    "\n",
    "Since we assume our features are normally distributed we need to find the mean and std for each feature in order for us to compute those probabilities. "
   ]
  },
  {
   "cell_type": "code",
   "execution_count": null,
   "metadata": {
    "id": "BSJRUYiZ97rI"
   },
   "outputs": [],
   "source": [
    "from hw3 import NaiveNormalClassDistribution"
   ]
  },
  {
   "cell_type": "code",
   "execution_count": null,
   "metadata": {
    "id": "RDlv-Qu897rK"
   },
   "outputs": [],
   "source": [
    "# Build the a NaiveNormalClassDistribution for each class.\n",
    "naive_normal_CD_0 = NaiveNormalClassDistribution(train_set, 0)\n",
    "naive_normal_CD_1 = NaiveNormalClassDistribution(train_set, 1)"
   ]
  },
  {
   "cell_type": "markdown",
   "metadata": {
    "id": "E3S8TaXg97rK"
   },
   "source": [
    "Implement the **MAPClassifier** class and build a MAPClassifier object containing the 2 distribution objects you just made above."
   ]
  },
  {
   "cell_type": "code",
   "execution_count": null,
   "metadata": {},
   "outputs": [],
   "source": [
    "from hw3 import MAPClassifier"
   ]
  },
  {
   "cell_type": "code",
   "execution_count": null,
   "metadata": {
    "id": "yQfcw22U97rL"
   },
   "outputs": [],
   "source": [
    "naive_normal_classifier = MAPClassifier(naive_normal_CD_0, naive_normal_CD_1)"
   ]
  },
  {
   "cell_type": "markdown",
   "metadata": {
    "id": "fK3PKXpf97rM"
   },
   "source": [
    "### Evaluate model\n",
    "Implement the **compute_accuracy** function in `hw3.py`. Use it and the 2 distribution objects you created to compute the accuracy on the test set."
   ]
  },
  {
   "cell_type": "code",
   "execution_count": null,
   "metadata": {},
   "outputs": [],
   "source": [
    "from hw3 import compute_accuracy"
   ]
  },
  {
   "cell_type": "code",
   "execution_count": null,
   "metadata": {
    "colab": {
     "base_uri": "https://localhost:8080/"
    },
    "executionInfo": {
     "elapsed": 272,
     "status": "ok",
     "timestamp": 1649236759557,
     "user": {
      "displayName": "Yarden Rachamim",
      "userId": "05474227465087296318"
     },
     "user_tz": -180
    },
    "id": "X-p0Oo2A97rM",
    "outputId": "6ad81ff3-d37a-406a-83dd-0d061ffed43e"
   },
   "outputs": [],
   "source": [
    "# Compute the naive model accuracy and store it in the naive accuracy variable.\n",
    "naive_accuracy = compute_accuracy(test_set, naive_normal_classifier)\n",
    "naive_accuracy"
   ]
  },
  {
   "cell_type": "markdown",
   "metadata": {
    "id": "2_mGpmGM97rN"
   },
   "source": [
    "## Alice's Full Model\n",
    "\n",
    "Start with Implementing the [multivariate normal](https://en.wikipedia.org/wiki/Multivariate_normal_distribution) distribution probability density function in `hw3.py`.\n",
    "\n",
    "## $$ (2\\pi)^{-\\frac{d}{2}} det(\\Sigma )^{-\\frac{1}{2}} \\cdot e ^{-\\frac{1}{2}(x-\\mu)^T \\Sigma ^ {-1} (x - \\mu) }$$\n",
    "\n",
    "Where : \n",
    "* $\\mu$ is the distribution mean vector. (length 2 in our case)\n",
    "* $\\Sigma$ Is the distribution covariance matrix. (size 2x2 in our case)"
   ]
  },
  {
   "cell_type": "code",
   "execution_count": null,
   "metadata": {
    "id": "bZTlpgi7Ojal"
   },
   "outputs": [],
   "source": [
    "from hw3 import multi_normal_pdf"
   ]
  },
  {
   "cell_type": "markdown",
   "metadata": {
    "id": "oIo8Ji8Z97rN"
   },
   "source": [
    "Implement the **MultiNormalClassDistribution** and build a distribution object for each class.\n",
    "\n",
    "In the full bayes model we will not make any simplifying assumptions, meaning, we will use a multivariate normal distribution. <br>\n",
    "And so, we'll need to compute the mean of each feature and to compute the covariance between the features to build the covariance matrix.\n"
   ]
  },
  {
   "cell_type": "code",
   "execution_count": null,
   "metadata": {
    "id": "rJDo4AeC97rO"
   },
   "outputs": [],
   "source": [
    "from hw3 import MultiNormalClassDistribution"
   ]
  },
  {
   "cell_type": "code",
   "execution_count": null,
   "metadata": {
    "id": "yRxCmrfI97rO"
   },
   "outputs": [],
   "source": [
    "# Build the a MultiNormalClassDistribution for each class.\n",
    "multi_normal_CD_0 = MultiNormalClassDistribution(train_set, 0)\n",
    "multi_normal_CD_1 = MultiNormalClassDistribution(train_set, 1)"
   ]
  },
  {
   "cell_type": "markdown",
   "metadata": {
    "id": "wMYfYFiF97rO"
   },
   "source": [
    "build a MAPClassifier object containing the 2 distribution objects you just made above."
   ]
  },
  {
   "cell_type": "code",
   "execution_count": null,
   "metadata": {
    "id": "0dM1VNHn97rP"
   },
   "outputs": [],
   "source": [
    "multi_normal_classifier = MAPClassifier(multi_normal_CD_0, multi_normal_CD_1)"
   ]
  },
  {
   "cell_type": "markdown",
   "metadata": {
    "id": "_fmTzieM97rP"
   },
   "source": [
    "### Evaluate model\n",
    "Use the **compute_accuracy** function and the 2 distribution objects you created to compute the accuracy on the test set."
   ]
  },
  {
   "cell_type": "code",
   "execution_count": null,
   "metadata": {
    "colab": {
     "base_uri": "https://localhost:8080/"
    },
    "executionInfo": {
     "elapsed": 401,
     "status": "ok",
     "timestamp": 1649238247985,
     "user": {
      "displayName": "Yarden Rachamim",
      "userId": "05474227465087296318"
     },
     "user_tz": -180
    },
    "id": "9Ihutafq97rP",
    "outputId": "9ba3c303-f2e1-44b5-f780-df7896cc5584"
   },
   "outputs": [],
   "source": [
    "# Compute the naive model accuracy and store it in the naive accuracy variable.\n",
    "full_accuracy = compute_accuracy(test_set, multi_normal_classifier)\n",
    "full_accuracy"
   ]
  },
  {
   "cell_type": "markdown",
   "metadata": {
    "id": "a_7u-ec397rQ"
   },
   "source": [
    "## Results"
   ]
  },
  {
   "cell_type": "markdown",
   "metadata": {
    "id": "_XxF0vm797rQ"
   },
   "source": [
    "Use a plot bar to showcase the models accuracy."
   ]
  },
  {
   "cell_type": "code",
   "execution_count": null,
   "metadata": {
    "colab": {
     "base_uri": "https://localhost:8080/",
     "height": 299
    },
    "executionInfo": {
     "elapsed": 393,
     "status": "ok",
     "timestamp": 1649238258489,
     "user": {
      "displayName": "Yarden Rachamim",
      "userId": "05474227465087296318"
     },
     "user_tz": -180
    },
    "id": "tCi0JFha97rQ",
    "outputId": "d1a6baa6-9149-40e9-af8b-52caff47a5df"
   },
   "outputs": [],
   "source": [
    "# Bar plot of accuracy of each model side by side.\n",
    "plt.bar(x=['Naive', 'Full'], height=[naive_accuracy, full_accuracy])\n",
    "plt.title(\"Naive vs Full accuracy comparison\")\n",
    "plt.ylabel(\"Accuracy\")"
   ]
  },
  {
   "cell_type": "markdown",
   "metadata": {
    "id": "GUxx4QO697rR"
   },
   "source": [
    "# Comparing Max a posteriori, prior, and likelihood results"
   ]
  },
  {
   "cell_type": "markdown",
   "metadata": {
    "id": "JvoTqYI397rR"
   },
   "source": [
    "For each of the classifiers above (naive Bayes and full Bayes, in which we compare posterior probabilities), we explore how classifiers would perform if we compare (1) only prior probabilities or (2) only likelihoods. \n",
    "\n",
    "In this section, you will implement MaxPrior and MaxLikelihood classifiers similarly to MAPClassifier, and then visualize the performance of the three models (MAP, MaxPrior, and MaxLikelihood) for each of the examples of above (naive Bayes and full Bayes).\n",
    "\n",
    "For example, your visualization can be a graph where accuracy is the y-axis, \"MaxPrior\", \"MaxLikelihood\", and \"MAP\" are the x-axis values, and at each x-value, there will be two bars - one for the naive Bayes, and one for the full Bayes.  \n",
    "\n",
    "Other graphs (that make sense / are intuitive) will be accepted as well."
   ]
  },
  {
   "cell_type": "markdown",
   "metadata": {
    "id": "FpIKZphj97rS"
   },
   "source": [
    "Implement the **MaxPrior** class and build a MaxPrior object like you did above with the **MAPClassifier**."
   ]
  },
  {
   "cell_type": "code",
   "execution_count": null,
   "metadata": {},
   "outputs": [],
   "source": [
    "from hw3 import MaxPrior"
   ]
  },
  {
   "cell_type": "markdown",
   "metadata": {
    "id": "2jOncByj97rS"
   },
   "source": [
    "Implement the **MaxLikelihood** class and build a MaxLikelihood object like you did above with the **MAPClassifier**."
   ]
  },
  {
   "cell_type": "code",
   "execution_count": null,
   "metadata": {
    "id": "uk7culTl97rT"
   },
   "outputs": [],
   "source": [
    "from hw3 import MaxLikelihood"
   ]
  },
  {
   "cell_type": "markdown",
   "metadata": {
    "id": "H2r0piw097rT"
   },
   "source": [
    "### Run and evaluate the models"
   ]
  },
  {
   "cell_type": "markdown",
   "metadata": {
    "id": "KpKqIqTy97rU"
   },
   "source": [
    "Repeat the process you did for the MAPClassifier, now for the MaxPrior and MaxLikelihood classifiers:\n",
    "1. Feed the naive_normal distributions and the multi_normal distributions you made for each class into the new models you made in this section\n",
    "2. Evaluate the accuracies\n",
    "3. Plot the results as described in the beginning of this section"
   ]
  },
  {
   "cell_type": "code",
   "execution_count": null,
   "metadata": {
    "id": "o7zQccmN97rV"
   },
   "outputs": [],
   "source": [
    "cs = [MaxPrior, MaxLikelihood, MAPClassifier]\n",
    "fig, ax = plt.subplots(len(cs), figsize=(15,10))\n",
    "for i, c in enumerate(cs):\n",
    "    naive_normal_classifier = c(naive_normal_CD_0, naive_normal_CD_1)\n",
    "    multi_normal_classifier = c(multi_normal_CD_0, multi_normal_CD_1)\n",
    "\n",
    "    naive_accuracy = compute_accuracy(test_set, naive_normal_classifier)\n",
    "    full_accuracy = compute_accuracy(test_set, multi_normal_classifier)\n",
    "\n",
    "    # Bar plot of accuracy of each model side by side.\n",
    "#     ax[i].bar(x=['Naive', 'Full'], height=[naive_accuracy, full_accuracy], )\n",
    "    ax[i].set_title(\"{} - Naive vs Full accuracy comparison\".format(c.__name__))\n",
    "    bars = ax[i].bar(['Naive', 'Full'], [naive_accuracy, full_accuracy])\n",
    "    ax[i].bar_label(bars)\n",
    "    ax[i].set_ylim(0,1)\n",
    "\n",
    "    # ax[i].ylabel(\"Accuracy\")\n",
    "\n",
    "fig.tight_layout()\n",
    "plt.show()"
   ]
  },
  {
   "cell_type": "markdown",
   "metadata": {
    "id": "2TWhBD4997rV"
   },
   "source": [
    "# Discrete Naive Bayes Classifier "
   ]
  },
  {
   "cell_type": "markdown",
   "metadata": {
    "id": "UKakgRD797rV"
   },
   "source": [
    "We will now build a discrete naive Bayes based classifier using **Laplace** smoothing.\n",
    "In the recitation, we saw how to compute the probability for each attribute value under each class:"
   ]
  },
  {
   "cell_type": "markdown",
   "metadata": {
    "id": "fNv3VdNY97rW"
   },
   "source": [
    "$$ P(x_j | A_i) = \\frac{n_{ij} + 1}{n_i + |V_j|} $$\n",
    "Where:\n",
    "* $n_{ij}$ The number of training instances with the class $A_i$ and the value $x_j$ in the relevant attribute.\n",
    "* $n_i$ The number of training instances with the class $A_i$\n",
    "* $|V_j|$ The number of possible values of the relevant attribute.\n",
    "\n",
    "In order to compute the likelihood we assume:\n",
    "$$ P(x| A_i) = \\prod\\limits_{j=1}^{n}P(x_j|A_i) $$\n",
    "\n",
    "And to classify an instance we will choose : \n",
    "$$\\arg\\!\\max\\limits_{i} P(A_i) \\cdot P(x | A_i)$$\n"
   ]
  },
  {
   "cell_type": "markdown",
   "metadata": {
    "id": "95Y9WEKO97rW"
   },
   "source": [
    "## Data\n",
    "We will try to predict breast cancer again only this time from a different dataset, \n",
    "<br> you can read about the dataset here : [Breast Cancer Dataset](https://archive.ics.uci.edu/ml/datasets/breast+cancer)<br>\n",
    "Load the training set and test set provided for you in the data folder.\n",
    " - breast_trainset.csv\n",
    " - breast_testset.csv\n",
    " "
   ]
  },
  {
   "cell_type": "code",
   "execution_count": null,
   "metadata": {
    "id": "Ldj_5a3d97rX"
   },
   "outputs": [],
   "source": [
    "# Load the train and test set into a pandas dataframe and convert them into a numpy array.\n",
    "train_set = pd.read_csv('data/breast_trainset.csv').values\n",
    "test_set = pd.read_csv('data/breast_testset.csv').values"
   ]
  },
  {
   "cell_type": "markdown",
   "metadata": {
    "id": "TXzx4U0097rX"
   },
   "source": [
    "## Build A Discrete Naive Bayes Distribution for each class\n",
    "Implement the **DiscreteNBClassDistribution** in `hw3.py` and build a distribution object for each class."
   ]
  },
  {
   "cell_type": "code",
   "execution_count": null,
   "metadata": {
    "id": "hS-DkveU97rX"
   },
   "outputs": [],
   "source": [
    "from hw3 import DiscreteNBClassDistribution"
   ]
  },
  {
   "cell_type": "code",
   "execution_count": null,
   "metadata": {
    "id": "uiJVXw5h97rY"
   },
   "outputs": [],
   "source": [
    "discrete_naive_CD_0 = DiscreteNBClassDistribution(train_set, 0)\n",
    "discrete_naive_CD_1 = DiscreteNBClassDistribution(train_set, 1)"
   ]
  },
  {
   "cell_type": "markdown",
   "metadata": {
    "id": "c7Zfpdyt97rY"
   },
   "source": [
    "build a MAPClassifier object containing the 2 distribution objects you just made above."
   ]
  },
  {
   "cell_type": "code",
   "execution_count": null,
   "metadata": {},
   "outputs": [],
   "source": [
    "from hw3 import MAPClassifier_DNB"
   ]
  },
  {
   "cell_type": "code",
   "execution_count": null,
   "metadata": {
    "id": "R46vXMqS97rZ"
   },
   "outputs": [],
   "source": [
    "discrete_naive_classifier = MAPClassifier_DNB(discrete_naive_CD_0, discrete_naive_CD_1)"
   ]
  },
  {
   "cell_type": "markdown",
   "metadata": {
    "id": "bKtJw1Ty97rZ"
   },
   "source": [
    "Use the compute_accuracy **method** and the 2 distribution objects you created to compute the accuracy on the test set."
   ]
  },
  {
   "cell_type": "code",
   "execution_count": null,
   "metadata": {
    "id": "mxwH3d4Z97rZ"
   },
   "outputs": [],
   "source": [
    "discrete_naive_classifier.compute_accuracy(test_set)"
   ]
  },
  {
   "cell_type": "code",
   "execution_count": null,
   "metadata": {},
   "outputs": [],
   "source": []
  }
 ],
 "metadata": {
  "colab": {
   "collapsed_sections": [],
   "name": "ProbabilisticModels.ipynb",
   "provenance": [
    {
     "file_id": "1bCEDw-NC2JWZstuBhGlo7VcB188Ft2K5",
     "timestamp": 1649263512426
    }
   ]
  },
  "kernelspec": {
   "display_name": "Python 3 (ipykernel)",
   "language": "python",
   "name": "python3"
  },
  "language_info": {
   "codemirror_mode": {
    "name": "ipython",
    "version": 3
   },
   "file_extension": ".py",
   "mimetype": "text/x-python",
   "name": "python",
   "nbconvert_exporter": "python",
   "pygments_lexer": "ipython3",
   "version": "3.11.7"
  }
 },
 "nbformat": 4,
 "nbformat_minor": 4
}
